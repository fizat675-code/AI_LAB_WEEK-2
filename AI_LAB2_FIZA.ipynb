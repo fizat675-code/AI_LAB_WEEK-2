{
 "cells": [
  {
   "cell_type": "markdown",
   "id": "81880081-a06f-40d1-9e5f-f82639fa8774",
   "metadata": {},
   "source": [
    "# TASK1_Greater Number(with tie)"
   ]
  },
  {
   "cell_type": "code",
   "execution_count": 1,
   "id": "ca69d3c3-8a84-4a30-9e58-2c37d7f02d33",
   "metadata": {},
   "outputs": [],
   "source": [
    "#.... Task1 :Greater Number....."
   ]
  },
  {
   "cell_type": "code",
   "execution_count": 3,
   "id": "7af13206-a452-4033-8c7f-792f1e1c1f40",
   "metadata": {},
   "outputs": [
    {
     "name": "stdin",
     "output_type": "stream",
     "text": [
      "Enter first number 40\n",
      "Enter second number 70\n"
     ]
    },
    {
     "name": "stdout",
     "output_type": "stream",
     "text": [
      "Greater number: 70\n"
     ]
    }
   ],
   "source": [
    "#input two intergers and compare \n",
    "a=int(input(\"Enter first number\"))\n",
    "b=int(input(\"Enter second number\"))\n",
    "if a>b:\n",
    "   print(\"Greater numbver:\",a)\n",
    "elif b>a:\n",
    "   print(\"Greater number:\",b)\n",
    "else:\n",
    "   print(\"Both are equal:\",a) "
   ]
  },
  {
   "cell_type": "markdown",
   "id": "e5589b0d-89b4-47dd-ba17-c34e1f155138",
   "metadata": {},
   "source": [
    "# Task2_Grading System"
   ]
  },
  {
   "cell_type": "code",
   "execution_count": 5,
   "id": "78cf5f48-69d1-4ef3-8698-8612be397b80",
   "metadata": {},
   "outputs": [
    {
     "name": "stdin",
     "output_type": "stream",
     "text": [
      "enter marks(0-100): 89\n"
     ]
    },
    {
     "name": "stdout",
     "output_type": "stream",
     "text": [
      "garde A-Execellent\n"
     ]
    }
   ],
   "source": [
    "#print Grade by using input marks\n",
    "marks =float(input(\"enter marks(0-100):\"))\n",
    "\n",
    "if marks<0 or marks>100:\n",
    "    print(\"Inavlid marks. Please enter marks between(0-100):\")\n",
    "elif marks>80:\n",
    "    print(\"garde A-Execellent\")\n",
    "elif marks>60:\n",
    "    print(\"garde B -Good\")\n",
    "elif marks>50:\n",
    "    print(\"garde c - Pass\")\n",
    "else:\n",
    "    print(\"Fail\")\n"
   ]
  },
  {
   "cell_type": "markdown",
   "id": "d022fba7-79ef-4a0c-8ca4-7df202c048b7",
   "metadata": {},
   "source": [
    "# Task3_EVEN or ODD(single number)"
   ]
  },
  {
   "cell_type": "code",
   "execution_count": 8,
   "id": "51183a31-0109-4fc9-a0c3-4335063ca430",
   "metadata": {},
   "outputs": [
    {
     "name": "stdin",
     "output_type": "stream",
     "text": [
      "Enter a number:  4\n"
     ]
    },
    {
     "name": "stdout",
     "output_type": "stream",
     "text": [
      "4 is Even\n"
     ]
    }
   ],
   "source": [
    "# --- Task 3: Even or Odd ---\n",
    "n = int(input(\"Enter a number: \"))\n",
    "\n",
    "if n % 2 == 0:\n",
    "    print(n, \"is Even\")\n",
    "else:\n",
    "    print(n,\"is Odd\")"
   ]
  },
  {
   "cell_type": "markdown",
   "id": "9b624158-c96d-418e-afd5-2c9cddeb84a3",
   "metadata": {},
   "source": [
    "# Task4_ Simple Login(3 attempts)"
   ]
  },
  {
   "cell_type": "code",
   "execution_count": 22,
   "id": "c7591baf-c307-48c6-9011-741021764378",
   "metadata": {},
   "outputs": [
    {
     "name": "stdin",
     "output_type": "stream",
     "text": [
      "Username:  admin\n",
      "Password:  1234\n"
     ]
    },
    {
     "name": "stdout",
     "output_type": "stream",
     "text": [
      "Login Successful \n"
     ]
    },
    {
     "name": "stdin",
     "output_type": "stream",
     "text": [
      "Enter your secret PIN:  9999\n"
     ]
    },
    {
     "name": "stdout",
     "output_type": "stream",
     "text": [
      "Access Granted \n"
     ]
    }
   ],
   "source": [
    "# --- Task 4: Simple Login \n",
    "\n",
    "# --- Task 4: Simple Login WITH PIN\n",
    "CORRECT_USER = \"admin\"\n",
    "CORRECT_PASS = \"1234\"\n",
    "SECRET_PIN   = \"9999\"   # extra security step\n",
    "\n",
    "attempts = 3\n",
    "\n",
    "while attempts > 0:\n",
    "    u = input(\"Username: \")\n",
    "    p = input(\"Password: \")\n",
    "\n",
    "    if u == CORRECT_USER and p == CORRECT_PASS:\n",
    "        print(\"Login Successful \")\n",
    "\n",
    "        #  ask for PIN\n",
    "        pin = input(\"Enter your secret PIN: \")\n",
    "        if pin == SECRET_PIN:\n",
    "            print(\"Access Granted \")\n",
    "        else:\n",
    "            print(\"Wrong PIN  Access Denied.\")\n",
    "        break\n",
    "\n",
    "    else:\n",
    "        attempts -= 1\n",
    "        print(\"Invalid credentials. Attempts left:\", attempts)\n",
    "\n",
    "if attempts == 0:\n",
    "    print(\"Account locked (demo). Please try later.\")\n"
   ]
  },
  {
   "cell_type": "markdown",
   "id": "3d5d2594-f41d-431a-a755-36032a793274",
   "metadata": {},
   "source": [
    "# Task5_multiplication table(1-10)"
   ]
  },
  {
   "cell_type": "code",
   "execution_count": 16,
   "id": "4d3bb170-f585-41c3-b514-0359bc084842",
   "metadata": {},
   "outputs": [
    {
     "name": "stdin",
     "output_type": "stream",
     "text": [
      "Enter a number for table:  4\n"
     ]
    },
    {
     "name": "stdout",
     "output_type": "stream",
     "text": [
      "4 x 1 = 4\n",
      "4 x 2 = 8\n",
      "4 x 3 = 12\n",
      "4 x 4 = 16\n",
      "4 x 5 = 20\n",
      "4 x 6 = 24\n",
      "4 x 7 = 28\n",
      "4 x 8 = 32\n",
      "4 x 9 = 36\n",
      "4 x 10 = 40\n"
     ]
    }
   ],
   "source": [
    "# --- Task 5: Multiplication Table (1 to 10) ---\n",
    "num = int(input(\"Enter a number for table: \"))\n",
    "\n",
    "for i in range(1, 11):\n",
    "    print(f\"{num} x {i} = {num * i}\")"
   ]
  },
  {
   "cell_type": "markdown",
   "id": "42da917b-a621-4a73-b18e-f24c08bd2a97",
   "metadata": {},
   "source": [
    "# Task6_Number Guessing Game"
   ]
  },
  {
   "cell_type": "code",
   "execution_count": 19,
   "id": "53a329af-88ef-4fda-9b28-a2f37c4a6b8e",
   "metadata": {},
   "outputs": [
    {
     "name": "stdout",
     "output_type": "stream",
     "text": [
      "I'm thinking of a number between 1 and 20...\n",
      "Secret number is: 1\n"
     ]
    },
    {
     "name": "stdin",
     "output_type": "stream",
     "text": [
      "Your guess:  1\n"
     ]
    },
    {
     "name": "stdout",
     "output_type": "stream",
     "text": [
      "Correct! You guessed it.\n"
     ]
    }
   ],
   "source": [
    "# --- Task 6: Number Guessing Game ---\n",
    "import random\n",
    "\n",
    "secret = random.randint(1, 20)  # secret number in [1, 20]\n",
    "print(\"I'm thinking of a number between 1 and 20...\")\n",
    "\n",
    "# REVEL SCRCET NUMBER\n",
    "print(\"Secret number is:\", secret)\n",
    "\n",
    "while True:\n",
    "    guess = int(input(\"Your guess: \"))\n",
    "\n",
    "    if guess == secret:\n",
    "        print(\"Correct! You guessed it.\")\n",
    "        break\n",
    "    elif guess < secret:\n",
    "        print(\"Too low, try again.\")\n",
    "    else:\n",
    "        print(\"Too high, try again.\")"
   ]
  },
  {
   "cell_type": "code",
   "execution_count": null,
   "id": "ccedd9cc-7495-4b0e-a5d5-c3f4735e33b3",
   "metadata": {},
   "outputs": [],
   "source": []
  }
 ],
 "metadata": {
  "kernelspec": {
   "display_name": "Python [conda env:base] *",
   "language": "python",
   "name": "conda-base-py"
  },
  "language_info": {
   "codemirror_mode": {
    "name": "ipython",
    "version": 3
   },
   "file_extension": ".py",
   "mimetype": "text/x-python",
   "name": "python",
   "nbconvert_exporter": "python",
   "pygments_lexer": "ipython3",
   "version": "3.13.5"
  }
 },
 "nbformat": 4,
 "nbformat_minor": 5
}
